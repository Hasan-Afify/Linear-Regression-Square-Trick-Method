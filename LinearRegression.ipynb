{
 "cells": [
  {
   "cell_type": "markdown",
   "metadata": {},
   "source": [
    "1- Importing Libraries."
   ]
  },
  {
   "cell_type": "code",
   "execution_count": 1,
   "metadata": {},
   "outputs": [],
   "source": [
    "import numpy as np\n",
    "import pandas as pd\n",
    "import matplotlib.pyplot as plt\n",
    "import seaborn as sns\n",
    "import missingno as mis\n",
    "from sklearn.model_selection import train_test_split\n",
    "from sklearn.metrics import mean_squared_error, r2_score\n",
    "from sklearn.preprocessing import PolynomialFeatures"
   ]
  },
  {
   "cell_type": "markdown",
   "metadata": {},
   "source": [
    "2- Load and Preprocess Dataset."
   ]
  },
  {
   "cell_type": "code",
   "execution_count": 2,
   "metadata": {},
   "outputs": [],
   "source": [
    "dataset = pd.read_csv(\"Housing.csv\")\n",
    "\n",
    "features = dataset.drop(columns=['price'])\n",
    "target = dataset['price']\n",
    "\n",
    "features_train, features_test, target_train, target_test = train_test_split(features, target, test_size=0.2, random_state=42)\n"
   ]
  },
  {
   "cell_type": "markdown",
   "metadata": {},
   "source": [
    "3- Implement the Square Trick."
   ]
  },
  {
   "cell_type": "code",
   "execution_count": 3,
   "metadata": {},
   "outputs": [],
   "source": [
    "class CustomLinearRegression:\n",
    "    def __init__(self, learning_rate=0.01, iterations=1000):\n",
    "        self.learning_rate = learning_rate\n",
    "        self.iterations = iterations\n",
    "        self.coefficients = None\n",
    "        self.intercept = None\n",
    "\n",
    "    def fit(self, X, y):\n",
    "        num_samples, num_features = X.shape\n",
    "        self.coefficients = np.zeros(num_features)\n",
    "        self.intercept = 0\n",
    "\n",
    "        for _ in range(self.iterations):\n",
    "            predictions = np.dot(X, self.coefficients) + self.intercept\n",
    "\n",
    "            gradient_coefficients = (1 / num_samples) * np.dot(X.T, (predictions - y))\n",
    "            gradient_intercept = (1 / num_samples) * np.sum(predictions - y)\n",
    "\n",
    "            self.coefficients -= self.learning_rate * gradient_coefficients\n",
    "            self.intercept -= self.learning_rate * gradient_intercept\n",
    "\n",
    "    def fit_closed_form(self, X, y):\n",
    "        X_with_bias = np.c_[np.ones(X.shape[0]), X]  # Add bias (intercept) term\n",
    "        weights = np.linalg.inv(X_with_bias.T @ X_with_bias) @ X_with_bias.T @ y\n",
    "        self.intercept = weights[0]\n",
    "        self.coefficients = weights[1:]\n",
    "\n",
    "    def predict(self, X):\n",
    "        return np.dot(X, self.coefficients) + self.intercept"
   ]
  },
  {
   "cell_type": "markdown",
   "metadata": {},
   "source": [
    "4- Train and Evaluate Custom Linear Regression with Square Trick."
   ]
  },
  {
   "cell_type": "code",
   "execution_count": null,
   "metadata": {},
   "outputs": [],
   "source": [
    "# Filter out non-numeric columns from the training and testing datasets\n",
    "numeric_features_train = features_train.select_dtypes(include=[np.number])\n",
    "numeric_features_test = features_test.select_dtypes(include=[np.number])\n",
    "\n",
    "# Normalize the numeric features\n",
    "features_train_normalized = (numeric_features_train - numeric_features_train.mean()) / numeric_features_train.std()\n",
    "features_test_normalized = (numeric_features_test - numeric_features_train.mean()) / numeric_features_train.std()\n",
    "\n",
    "# Create and train the custom linear regression model with closed-form solution\n",
    "custom_model_cf = CustomLinearRegression()\n",
    "custom_model_cf.fit_closed_form(features_train_normalized.values, target_train.values)\n",
    "\n",
    "# Make predictions with the custom model\n",
    "target_predictions_cf = custom_model_cf.predict(features_test_normalized.values)\n",
    "\n",
    "# Evaluate the model\n",
    "rmse_cf = np.sqrt(mean_squared_error(target_test, target_predictions_cf))\n",
    "r2_cf = r2_score(target_test, target_predictions_cf)\n",
    "\n",
    "# Print the evaluation metrics\n",
    "print(\"Custom Linear Regression (Square Trick) RMSE:\", rmse_cf)\n",
    "print(\"Custom Linear Regression (Square Trick) R^2:\", r2_cf)\n"
   ]
  },
  {
   "cell_type": "markdown",
   "metadata": {},
   "source": [
    "5- Experiment with Polynomial Features."
   ]
  },
  {
   "cell_type": "code",
   "execution_count": null,
   "metadata": {},
   "outputs": [],
   "source": [
    "if r2_cf < 0.9:\n",
    "    polynomial_transformer = PolynomialFeatures(degree=2)\n",
    "    features_poly_train = polynomial_transformer.fit_transform(features_train_normalized)\n",
    "    features_poly_test = polynomial_transformer.transform(features_test_normalized)\n",
    "\n",
    "    custom_model_poly = CustomLinearRegression(learning_rate=0.01, iterations=1000)\n",
    "    custom_model_poly.fit(features_poly_train, target_train.values)\n",
    "\n",
    "    target_predictions_poly = custom_model_poly.predict(features_poly_test)\n",
    "\n",
    "    rmse_poly = np.sqrt(mean_squared_error(target_test, target_predictions_poly))\n",
    "    r2_poly = r2_score(target_test, target_predictions_poly)\n",
    "\n",
    "    print(\"Polynomial Regression (Custom) RMSE:\", rmse_poly)\n",
    "    print(\"Polynomial Regression (Custom) R^2:\", r2_poly)\n",
    "\n",
    "    plt.scatter(target_test, target_predictions_poly, color='blue')\n",
    "    plt.xlabel(\"Actual Prices\")\n",
    "    plt.ylabel(\"Predicted Prices\")\n",
    "    plt.title(\"Polynomial Regression (Custom): Actual vs Predicted Prices\")\n",
    "    plt.show()\n",
    "\n"
   ]
  },
  {
   "cell_type": "code",
   "execution_count": null,
   "metadata": {},
   "outputs": [],
   "source": [
    "# Scatter plot: Actual vs Predicted with Ideal Line\n",
    "plt.figure(figsize=(8, 6))\n",
    "plt.scatter(target_test, target_predictions_poly, color='blue', label='Predicted', alpha=0.7)\n",
    "plt.plot([min(target_test), max(target_test)], [min(target_test), max(target_test)], color='red', label='Actual')\n",
    "plt.xlabel(\"Actual Prices\")\n",
    "plt.ylabel(\"Predicted Prices\")\n",
    "plt.title(f\"Actual vs Predicted Prices\")\n",
    "plt.legend()\n",
    "plt.grid()\n",
    "plt.show()\n"
   ]
  }
 ],
 "metadata": {
  "kernelspec": {
   "display_name": "base",
   "language": "python",
   "name": "python3"
  },
  "language_info": {
   "codemirror_mode": {
    "name": "ipython",
    "version": 3
   },
   "file_extension": ".py",
   "mimetype": "text/x-python",
   "name": "python",
   "nbconvert_exporter": "python",
   "pygments_lexer": "ipython3",
   "version": "3.11.7"
  }
 },
 "nbformat": 4,
 "nbformat_minor": 2
}
